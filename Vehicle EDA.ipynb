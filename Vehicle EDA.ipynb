{
 "cells": [
  {
   "cell_type": "code",
   "execution_count": 2,
   "id": "674369d9-df05-4072-bc5f-c6db5d0c09dd",
   "metadata": {},
   "outputs": [],
   "source": [
    "import pandas as pd\n",
    "import matplotlib.pyplot as plt\n",
    "import numpy as np\n",
    "import seaborn as sns\n",
    "pd.set_option(\"display.max_columns\", 200)\n",
    "import re"
   ]
  },
  {
   "cell_type": "code",
   "execution_count": 3,
   "id": "0ff68375-fa1c-4adb-a88b-796cedffa7ba",
   "metadata": {},
   "outputs": [],
   "source": [
    "data = pd.read_csv(\"Car details v3.csv\", na_values=[''])"
   ]
  },
  {
   "cell_type": "code",
   "execution_count": 4,
   "id": "65f563c2-2c78-4842-962d-ff5621c8dce5",
   "metadata": {},
   "outputs": [
    {
     "data": {
      "text/html": [
       "<div>\n",
       "<style scoped>\n",
       "    .dataframe tbody tr th:only-of-type {\n",
       "        vertical-align: middle;\n",
       "    }\n",
       "\n",
       "    .dataframe tbody tr th {\n",
       "        vertical-align: top;\n",
       "    }\n",
       "\n",
       "    .dataframe thead th {\n",
       "        text-align: right;\n",
       "    }\n",
       "</style>\n",
       "<table border=\"1\" class=\"dataframe\">\n",
       "  <thead>\n",
       "    <tr style=\"text-align: right;\">\n",
       "      <th></th>\n",
       "      <th>name</th>\n",
       "      <th>year</th>\n",
       "      <th>selling_price</th>\n",
       "      <th>km_driven</th>\n",
       "      <th>fuel</th>\n",
       "      <th>seller_type</th>\n",
       "      <th>transmission</th>\n",
       "      <th>owner</th>\n",
       "      <th>mileage</th>\n",
       "      <th>engine</th>\n",
       "      <th>max_power</th>\n",
       "      <th>torque</th>\n",
       "      <th>seats</th>\n",
       "    </tr>\n",
       "  </thead>\n",
       "  <tbody>\n",
       "    <tr>\n",
       "      <th>0</th>\n",
       "      <td>Maruti Swift Dzire VDI</td>\n",
       "      <td>2014</td>\n",
       "      <td>450000</td>\n",
       "      <td>145500</td>\n",
       "      <td>Diesel</td>\n",
       "      <td>Individual</td>\n",
       "      <td>Manual</td>\n",
       "      <td>First Owner</td>\n",
       "      <td>23.4 kmpl</td>\n",
       "      <td>1248 CC</td>\n",
       "      <td>74 bhp</td>\n",
       "      <td>190Nm@ 2000rpm</td>\n",
       "      <td>5.0</td>\n",
       "    </tr>\n",
       "    <tr>\n",
       "      <th>1</th>\n",
       "      <td>Skoda Rapid 1.5 TDI Ambition</td>\n",
       "      <td>2014</td>\n",
       "      <td>370000</td>\n",
       "      <td>120000</td>\n",
       "      <td>Diesel</td>\n",
       "      <td>Individual</td>\n",
       "      <td>Manual</td>\n",
       "      <td>Second Owner</td>\n",
       "      <td>21.14 kmpl</td>\n",
       "      <td>1498 CC</td>\n",
       "      <td>103.52 bhp</td>\n",
       "      <td>250Nm@ 1500-2500rpm</td>\n",
       "      <td>5.0</td>\n",
       "    </tr>\n",
       "    <tr>\n",
       "      <th>2</th>\n",
       "      <td>Honda City 2017-2020 EXi</td>\n",
       "      <td>2006</td>\n",
       "      <td>158000</td>\n",
       "      <td>140000</td>\n",
       "      <td>Petrol</td>\n",
       "      <td>Individual</td>\n",
       "      <td>Manual</td>\n",
       "      <td>Third Owner</td>\n",
       "      <td>17.7 kmpl</td>\n",
       "      <td>1497 CC</td>\n",
       "      <td>78 bhp</td>\n",
       "      <td>12.7@ 2,700(kgm@ rpm)</td>\n",
       "      <td>5.0</td>\n",
       "    </tr>\n",
       "    <tr>\n",
       "      <th>3</th>\n",
       "      <td>Hyundai i20 Sportz Diesel</td>\n",
       "      <td>2010</td>\n",
       "      <td>225000</td>\n",
       "      <td>127000</td>\n",
       "      <td>Diesel</td>\n",
       "      <td>Individual</td>\n",
       "      <td>Manual</td>\n",
       "      <td>First Owner</td>\n",
       "      <td>23.0 kmpl</td>\n",
       "      <td>1396 CC</td>\n",
       "      <td>90 bhp</td>\n",
       "      <td>22.4 kgm at 1750-2750rpm</td>\n",
       "      <td>5.0</td>\n",
       "    </tr>\n",
       "    <tr>\n",
       "      <th>4</th>\n",
       "      <td>Maruti Swift VXI BSIII</td>\n",
       "      <td>2007</td>\n",
       "      <td>130000</td>\n",
       "      <td>120000</td>\n",
       "      <td>Petrol</td>\n",
       "      <td>Individual</td>\n",
       "      <td>Manual</td>\n",
       "      <td>First Owner</td>\n",
       "      <td>16.1 kmpl</td>\n",
       "      <td>1298 CC</td>\n",
       "      <td>88.2 bhp</td>\n",
       "      <td>11.5@ 4,500(kgm@ rpm)</td>\n",
       "      <td>5.0</td>\n",
       "    </tr>\n",
       "  </tbody>\n",
       "</table>\n",
       "</div>"
      ],
      "text/plain": [
       "                           name  year  selling_price  km_driven    fuel  \\\n",
       "0        Maruti Swift Dzire VDI  2014         450000     145500  Diesel   \n",
       "1  Skoda Rapid 1.5 TDI Ambition  2014         370000     120000  Diesel   \n",
       "2      Honda City 2017-2020 EXi  2006         158000     140000  Petrol   \n",
       "3     Hyundai i20 Sportz Diesel  2010         225000     127000  Diesel   \n",
       "4        Maruti Swift VXI BSIII  2007         130000     120000  Petrol   \n",
       "\n",
       "  seller_type transmission         owner     mileage   engine   max_power  \\\n",
       "0  Individual       Manual   First Owner   23.4 kmpl  1248 CC      74 bhp   \n",
       "1  Individual       Manual  Second Owner  21.14 kmpl  1498 CC  103.52 bhp   \n",
       "2  Individual       Manual   Third Owner   17.7 kmpl  1497 CC      78 bhp   \n",
       "3  Individual       Manual   First Owner   23.0 kmpl  1396 CC      90 bhp   \n",
       "4  Individual       Manual   First Owner   16.1 kmpl  1298 CC    88.2 bhp   \n",
       "\n",
       "                     torque  seats  \n",
       "0            190Nm@ 2000rpm    5.0  \n",
       "1       250Nm@ 1500-2500rpm    5.0  \n",
       "2     12.7@ 2,700(kgm@ rpm)    5.0  \n",
       "3  22.4 kgm at 1750-2750rpm    5.0  \n",
       "4     11.5@ 4,500(kgm@ rpm)    5.0  "
      ]
     },
     "execution_count": 4,
     "metadata": {},
     "output_type": "execute_result"
    }
   ],
   "source": [
    "data.head()"
   ]
  },
  {
   "cell_type": "code",
   "execution_count": 5,
   "id": "b86dd505-7d6c-4c94-b06e-c7c6c1ef1ca4",
   "metadata": {},
   "outputs": [],
   "source": [
    "data = data.astype(\"str\")"
   ]
  },
  {
   "cell_type": "code",
   "execution_count": 6,
   "id": "c3bdbcae-c998-446d-a418-07a2ce08f835",
   "metadata": {},
   "outputs": [
    {
     "name": "stdout",
     "output_type": "stream",
     "text": [
      "<class 'pandas.core.frame.DataFrame'>\n",
      "RangeIndex: 8128 entries, 0 to 8127\n",
      "Data columns (total 13 columns):\n",
      " #   Column         Non-Null Count  Dtype \n",
      "---  ------         --------------  ----- \n",
      " 0   name           8128 non-null   object\n",
      " 1   year           8128 non-null   object\n",
      " 2   selling_price  8128 non-null   object\n",
      " 3   km_driven      8128 non-null   object\n",
      " 4   fuel           8128 non-null   object\n",
      " 5   seller_type    8128 non-null   object\n",
      " 6   transmission   8128 non-null   object\n",
      " 7   owner          8128 non-null   object\n",
      " 8   mileage        8128 non-null   object\n",
      " 9   engine         8128 non-null   object\n",
      " 10  max_power      8128 non-null   object\n",
      " 11  torque         8128 non-null   object\n",
      " 12  seats          8128 non-null   object\n",
      "dtypes: object(13)\n",
      "memory usage: 825.6+ KB\n"
     ]
    }
   ],
   "source": [
    "data.info()"
   ]
  },
  {
   "cell_type": "code",
   "execution_count": 7,
   "id": "41c26870-1cd8-4103-8094-22a838c36cbb",
   "metadata": {},
   "outputs": [
    {
     "data": {
      "text/plain": [
       "0          74 \n",
       "1       103.52\n",
       "2          78 \n",
       "3          90 \n",
       "4         88.2\n",
       "         ...  \n",
       "8123     82.85\n",
       "8124      110 \n",
       "8125      73.9\n",
       "8126       70 \n",
       "8127       70 \n",
       "Name: max_power hp, Length: 8128, dtype: object"
      ]
     },
     "execution_count": 7,
     "metadata": {},
     "output_type": "execute_result"
    }
   ],
   "source": [
    "data['mileage Km/L'] = data['mileage'].str.extract(pat = \"([0-9]*\\\\.[0-9]+)\")\n",
    "data['engine CC'] = data['engine'].str.extract(pat = \"([0-9]+)\")\n",
    "data['max_power hp'] = data['max_power'].str.extract(pat = '([0-9]+.[0-9]{,2})')\n",
    "data['max_power hp']\n"
   ]
  },
  {
   "cell_type": "code",
   "execution_count": 8,
   "id": "bdc1a388-ec11-4766-986b-7602ed4eb8c0",
   "metadata": {},
   "outputs": [],
   "source": [
    "data = data.drop(['mileage','engine','max_power'], axis=1)"
   ]
  },
  {
   "cell_type": "code",
   "execution_count": 9,
   "id": "fae7cab3-3ba3-4c4d-a570-a03aa7f09c9c",
   "metadata": {},
   "outputs": [
    {
     "data": {
      "text/plain": [
       "seats\n",
       "False    8128\n",
       "Name: count, dtype: int64"
      ]
     },
     "execution_count": 9,
     "metadata": {},
     "output_type": "execute_result"
    }
   ],
   "source": [
    "data.isna()['seats'].value_counts()"
   ]
  },
  {
   "cell_type": "code",
   "execution_count": 10,
   "id": "efe6d3b5-9c46-483c-84a9-2a9874e1dd04",
   "metadata": {},
   "outputs": [
    {
     "data": {
      "text/plain": [
       "(8128, 13)"
      ]
     },
     "execution_count": 10,
     "metadata": {},
     "output_type": "execute_result"
    }
   ],
   "source": [
    "data.shape"
   ]
  },
  {
   "cell_type": "markdown",
   "id": "c2547efd-cad7-4a9a-a883-0834ac623304",
   "metadata": {},
   "source": [
    "There is no company name for the cars, so lets add that column (First Word)"
   ]
  },
  {
   "cell_type": "code",
   "execution_count": 11,
   "id": "3a329e64-548d-44df-8442-5d1d89e42157",
   "metadata": {},
   "outputs": [],
   "source": [
    "data['company'] = data['name'].str.split(n=0).map(lambda x: x[0])"
   ]
  },
  {
   "cell_type": "code",
   "execution_count": 12,
   "id": "03c45127-dcf0-49f4-8cbb-56e06bf7b4c5",
   "metadata": {},
   "outputs": [],
   "source": [
    "data = data.astype(\"Int64\", errors='ignore')"
   ]
  },
  {
   "cell_type": "code",
   "execution_count": 13,
   "id": "48756405-1d1c-4bf5-8277-594e88ac1a60",
   "metadata": {},
   "outputs": [
    {
     "data": {
      "text/html": [
       "<div>\n",
       "<style scoped>\n",
       "    .dataframe tbody tr th:only-of-type {\n",
       "        vertical-align: middle;\n",
       "    }\n",
       "\n",
       "    .dataframe tbody tr th {\n",
       "        vertical-align: top;\n",
       "    }\n",
       "\n",
       "    .dataframe thead th {\n",
       "        text-align: right;\n",
       "    }\n",
       "</style>\n",
       "<table border=\"1\" class=\"dataframe\">\n",
       "  <thead>\n",
       "    <tr style=\"text-align: right;\">\n",
       "      <th></th>\n",
       "      <th>name</th>\n",
       "      <th>year</th>\n",
       "      <th>selling_price</th>\n",
       "      <th>km_driven</th>\n",
       "      <th>fuel</th>\n",
       "      <th>seller_type</th>\n",
       "      <th>transmission</th>\n",
       "      <th>owner</th>\n",
       "      <th>torque</th>\n",
       "      <th>seats</th>\n",
       "      <th>mileage Km/L</th>\n",
       "      <th>engine CC</th>\n",
       "      <th>max_power hp</th>\n",
       "      <th>company</th>\n",
       "    </tr>\n",
       "  </thead>\n",
       "  <tbody>\n",
       "    <tr>\n",
       "      <th>0</th>\n",
       "      <td>Maruti Swift Dzire VDI</td>\n",
       "      <td>2014</td>\n",
       "      <td>450000</td>\n",
       "      <td>145500</td>\n",
       "      <td>Diesel</td>\n",
       "      <td>Individual</td>\n",
       "      <td>Manual</td>\n",
       "      <td>First Owner</td>\n",
       "      <td>190Nm@ 2000rpm</td>\n",
       "      <td>5.0</td>\n",
       "      <td>23.4</td>\n",
       "      <td>1248</td>\n",
       "      <td>74</td>\n",
       "      <td>Maruti</td>\n",
       "    </tr>\n",
       "    <tr>\n",
       "      <th>1</th>\n",
       "      <td>Skoda Rapid 1.5 TDI Ambition</td>\n",
       "      <td>2014</td>\n",
       "      <td>370000</td>\n",
       "      <td>120000</td>\n",
       "      <td>Diesel</td>\n",
       "      <td>Individual</td>\n",
       "      <td>Manual</td>\n",
       "      <td>Second Owner</td>\n",
       "      <td>250Nm@ 1500-2500rpm</td>\n",
       "      <td>5.0</td>\n",
       "      <td>21.14</td>\n",
       "      <td>1498</td>\n",
       "      <td>103.52</td>\n",
       "      <td>Skoda</td>\n",
       "    </tr>\n",
       "    <tr>\n",
       "      <th>2</th>\n",
       "      <td>Honda City 2017-2020 EXi</td>\n",
       "      <td>2006</td>\n",
       "      <td>158000</td>\n",
       "      <td>140000</td>\n",
       "      <td>Petrol</td>\n",
       "      <td>Individual</td>\n",
       "      <td>Manual</td>\n",
       "      <td>Third Owner</td>\n",
       "      <td>12.7@ 2,700(kgm@ rpm)</td>\n",
       "      <td>5.0</td>\n",
       "      <td>17.7</td>\n",
       "      <td>1497</td>\n",
       "      <td>78</td>\n",
       "      <td>Honda</td>\n",
       "    </tr>\n",
       "    <tr>\n",
       "      <th>3</th>\n",
       "      <td>Hyundai i20 Sportz Diesel</td>\n",
       "      <td>2010</td>\n",
       "      <td>225000</td>\n",
       "      <td>127000</td>\n",
       "      <td>Diesel</td>\n",
       "      <td>Individual</td>\n",
       "      <td>Manual</td>\n",
       "      <td>First Owner</td>\n",
       "      <td>22.4 kgm at 1750-2750rpm</td>\n",
       "      <td>5.0</td>\n",
       "      <td>23.0</td>\n",
       "      <td>1396</td>\n",
       "      <td>90</td>\n",
       "      <td>Hyundai</td>\n",
       "    </tr>\n",
       "    <tr>\n",
       "      <th>4</th>\n",
       "      <td>Maruti Swift VXI BSIII</td>\n",
       "      <td>2007</td>\n",
       "      <td>130000</td>\n",
       "      <td>120000</td>\n",
       "      <td>Petrol</td>\n",
       "      <td>Individual</td>\n",
       "      <td>Manual</td>\n",
       "      <td>First Owner</td>\n",
       "      <td>11.5@ 4,500(kgm@ rpm)</td>\n",
       "      <td>5.0</td>\n",
       "      <td>16.1</td>\n",
       "      <td>1298</td>\n",
       "      <td>88.2</td>\n",
       "      <td>Maruti</td>\n",
       "    </tr>\n",
       "  </tbody>\n",
       "</table>\n",
       "</div>"
      ],
      "text/plain": [
       "                           name  year  selling_price  km_driven    fuel  \\\n",
       "0        Maruti Swift Dzire VDI  2014         450000     145500  Diesel   \n",
       "1  Skoda Rapid 1.5 TDI Ambition  2014         370000     120000  Diesel   \n",
       "2      Honda City 2017-2020 EXi  2006         158000     140000  Petrol   \n",
       "3     Hyundai i20 Sportz Diesel  2010         225000     127000  Diesel   \n",
       "4        Maruti Swift VXI BSIII  2007         130000     120000  Petrol   \n",
       "\n",
       "  seller_type transmission         owner                    torque seats  \\\n",
       "0  Individual       Manual   First Owner            190Nm@ 2000rpm   5.0   \n",
       "1  Individual       Manual  Second Owner       250Nm@ 1500-2500rpm   5.0   \n",
       "2  Individual       Manual   Third Owner     12.7@ 2,700(kgm@ rpm)   5.0   \n",
       "3  Individual       Manual   First Owner  22.4 kgm at 1750-2750rpm   5.0   \n",
       "4  Individual       Manual   First Owner     11.5@ 4,500(kgm@ rpm)   5.0   \n",
       "\n",
       "  mileage Km/L  engine CC max_power hp  company  \n",
       "0         23.4       1248          74    Maruti  \n",
       "1        21.14       1498       103.52    Skoda  \n",
       "2         17.7       1497          78     Honda  \n",
       "3         23.0       1396          90   Hyundai  \n",
       "4         16.1       1298         88.2   Maruti  "
      ]
     },
     "execution_count": 13,
     "metadata": {},
     "output_type": "execute_result"
    }
   ],
   "source": [
    "data.head()"
   ]
  },
  {
   "cell_type": "code",
   "execution_count": 14,
   "id": "7659fb13-54cd-48f7-8fca-e016c7104718",
   "metadata": {},
   "outputs": [
    {
     "data": {
      "text/html": [
       "<div>\n",
       "<style scoped>\n",
       "    .dataframe tbody tr th:only-of-type {\n",
       "        vertical-align: middle;\n",
       "    }\n",
       "\n",
       "    .dataframe tbody tr th {\n",
       "        vertical-align: top;\n",
       "    }\n",
       "\n",
       "    .dataframe thead th {\n",
       "        text-align: right;\n",
       "    }\n",
       "</style>\n",
       "<table border=\"1\" class=\"dataframe\">\n",
       "  <thead>\n",
       "    <tr style=\"text-align: right;\">\n",
       "      <th>transmission</th>\n",
       "      <th>Automatic</th>\n",
       "      <th>Manual</th>\n",
       "    </tr>\n",
       "    <tr>\n",
       "      <th>year</th>\n",
       "      <th></th>\n",
       "      <th></th>\n",
       "    </tr>\n",
       "  </thead>\n",
       "  <tbody>\n",
       "    <tr>\n",
       "      <th>1983</th>\n",
       "      <td>0.0</td>\n",
       "      <td>1.0</td>\n",
       "    </tr>\n",
       "    <tr>\n",
       "      <th>1991</th>\n",
       "      <td>0.0</td>\n",
       "      <td>1.0</td>\n",
       "    </tr>\n",
       "    <tr>\n",
       "      <th>1994</th>\n",
       "      <td>0.0</td>\n",
       "      <td>3.0</td>\n",
       "    </tr>\n",
       "    <tr>\n",
       "      <th>1995</th>\n",
       "      <td>0.0</td>\n",
       "      <td>2.0</td>\n",
       "    </tr>\n",
       "    <tr>\n",
       "      <th>1996</th>\n",
       "      <td>0.0</td>\n",
       "      <td>3.0</td>\n",
       "    </tr>\n",
       "  </tbody>\n",
       "</table>\n",
       "</div>"
      ],
      "text/plain": [
       "transmission  Automatic  Manual\n",
       "year                           \n",
       "1983                0.0     1.0\n",
       "1991                0.0     1.0\n",
       "1994                0.0     3.0\n",
       "1995                0.0     2.0\n",
       "1996                0.0     3.0"
      ]
     },
     "execution_count": 14,
     "metadata": {},
     "output_type": "execute_result"
    }
   ],
   "source": [
    "transmission_by_year = data.groupby(['year', 'transmission'])['name'].count()\n",
    "transmission_by_year = transmission_by_year.unstack(level='transmission').fillna(0)\n",
    "transmission_by_year.head()"
   ]
  },
  {
   "cell_type": "code",
   "execution_count": 15,
   "id": "729da7a4-e0da-4214-86c4-e4cb1c9f6327",
   "metadata": {},
   "outputs": [
    {
     "data": {
      "text/html": [
       "<div>\n",
       "<style scoped>\n",
       "    .dataframe tbody tr th:only-of-type {\n",
       "        vertical-align: middle;\n",
       "    }\n",
       "\n",
       "    .dataframe tbody tr th {\n",
       "        vertical-align: top;\n",
       "    }\n",
       "\n",
       "    .dataframe thead th {\n",
       "        text-align: right;\n",
       "    }\n",
       "</style>\n",
       "<table border=\"1\" class=\"dataframe\">\n",
       "  <thead>\n",
       "    <tr style=\"text-align: right;\">\n",
       "      <th>transmission</th>\n",
       "      <th>Automatic</th>\n",
       "      <th>Manual</th>\n",
       "      <th>sum</th>\n",
       "    </tr>\n",
       "    <tr>\n",
       "      <th>year</th>\n",
       "      <th></th>\n",
       "      <th></th>\n",
       "      <th></th>\n",
       "    </tr>\n",
       "  </thead>\n",
       "  <tbody>\n",
       "    <tr>\n",
       "      <th>1983</th>\n",
       "      <td>0.0</td>\n",
       "      <td>1.0</td>\n",
       "      <td>1.0</td>\n",
       "    </tr>\n",
       "    <tr>\n",
       "      <th>1991</th>\n",
       "      <td>0.0</td>\n",
       "      <td>1.0</td>\n",
       "      <td>1.0</td>\n",
       "    </tr>\n",
       "    <tr>\n",
       "      <th>1994</th>\n",
       "      <td>0.0</td>\n",
       "      <td>3.0</td>\n",
       "      <td>3.0</td>\n",
       "    </tr>\n",
       "    <tr>\n",
       "      <th>1995</th>\n",
       "      <td>0.0</td>\n",
       "      <td>2.0</td>\n",
       "      <td>2.0</td>\n",
       "    </tr>\n",
       "    <tr>\n",
       "      <th>1996</th>\n",
       "      <td>0.0</td>\n",
       "      <td>3.0</td>\n",
       "      <td>3.0</td>\n",
       "    </tr>\n",
       "  </tbody>\n",
       "</table>\n",
       "</div>"
      ],
      "text/plain": [
       "transmission  Automatic  Manual  sum\n",
       "year                                \n",
       "1983                0.0     1.0  1.0\n",
       "1991                0.0     1.0  1.0\n",
       "1994                0.0     3.0  3.0\n",
       "1995                0.0     2.0  2.0\n",
       "1996                0.0     3.0  3.0"
      ]
     },
     "execution_count": 15,
     "metadata": {},
     "output_type": "execute_result"
    }
   ],
   "source": [
    "transmission_by_year['sum'] = transmission_by_year.sum(axis=1)\n",
    "transmission_by_year.head()"
   ]
  },
  {
   "cell_type": "code",
   "execution_count": 16,
   "id": "6014a460-ffb8-4e78-876d-7735fa7b787e",
   "metadata": {},
   "outputs": [
    {
     "data": {
      "text/html": [
       "<div>\n",
       "<style scoped>\n",
       "    .dataframe tbody tr th:only-of-type {\n",
       "        vertical-align: middle;\n",
       "    }\n",
       "\n",
       "    .dataframe tbody tr th {\n",
       "        vertical-align: top;\n",
       "    }\n",
       "\n",
       "    .dataframe thead th {\n",
       "        text-align: right;\n",
       "    }\n",
       "</style>\n",
       "<table border=\"1\" class=\"dataframe\">\n",
       "  <thead>\n",
       "    <tr style=\"text-align: right;\">\n",
       "      <th>transmission</th>\n",
       "      <th>Automatic</th>\n",
       "      <th>Manual</th>\n",
       "    </tr>\n",
       "    <tr>\n",
       "      <th>year</th>\n",
       "      <th></th>\n",
       "      <th></th>\n",
       "    </tr>\n",
       "  </thead>\n",
       "  <tbody>\n",
       "    <tr>\n",
       "      <th>1983</th>\n",
       "      <td>0.000000</td>\n",
       "      <td>100.000000</td>\n",
       "    </tr>\n",
       "    <tr>\n",
       "      <th>1991</th>\n",
       "      <td>0.000000</td>\n",
       "      <td>100.000000</td>\n",
       "    </tr>\n",
       "    <tr>\n",
       "      <th>1994</th>\n",
       "      <td>0.000000</td>\n",
       "      <td>100.000000</td>\n",
       "    </tr>\n",
       "    <tr>\n",
       "      <th>1995</th>\n",
       "      <td>0.000000</td>\n",
       "      <td>100.000000</td>\n",
       "    </tr>\n",
       "    <tr>\n",
       "      <th>1996</th>\n",
       "      <td>0.000000</td>\n",
       "      <td>100.000000</td>\n",
       "    </tr>\n",
       "    <tr>\n",
       "      <th>1997</th>\n",
       "      <td>9.090909</td>\n",
       "      <td>90.909091</td>\n",
       "    </tr>\n",
       "    <tr>\n",
       "      <th>1998</th>\n",
       "      <td>0.000000</td>\n",
       "      <td>100.000000</td>\n",
       "    </tr>\n",
       "    <tr>\n",
       "      <th>1999</th>\n",
       "      <td>0.000000</td>\n",
       "      <td>100.000000</td>\n",
       "    </tr>\n",
       "    <tr>\n",
       "      <th>2000</th>\n",
       "      <td>0.000000</td>\n",
       "      <td>100.000000</td>\n",
       "    </tr>\n",
       "    <tr>\n",
       "      <th>2001</th>\n",
       "      <td>0.000000</td>\n",
       "      <td>100.000000</td>\n",
       "    </tr>\n",
       "    <tr>\n",
       "      <th>2002</th>\n",
       "      <td>0.000000</td>\n",
       "      <td>100.000000</td>\n",
       "    </tr>\n",
       "    <tr>\n",
       "      <th>2003</th>\n",
       "      <td>0.000000</td>\n",
       "      <td>100.000000</td>\n",
       "    </tr>\n",
       "    <tr>\n",
       "      <th>2004</th>\n",
       "      <td>8.064516</td>\n",
       "      <td>91.935484</td>\n",
       "    </tr>\n",
       "    <tr>\n",
       "      <th>2005</th>\n",
       "      <td>6.185567</td>\n",
       "      <td>93.814433</td>\n",
       "    </tr>\n",
       "    <tr>\n",
       "      <th>2006</th>\n",
       "      <td>4.032258</td>\n",
       "      <td>95.967742</td>\n",
       "    </tr>\n",
       "    <tr>\n",
       "      <th>2007</th>\n",
       "      <td>4.371585</td>\n",
       "      <td>95.628415</td>\n",
       "    </tr>\n",
       "    <tr>\n",
       "      <th>2008</th>\n",
       "      <td>4.205607</td>\n",
       "      <td>95.794393</td>\n",
       "    </tr>\n",
       "    <tr>\n",
       "      <th>2009</th>\n",
       "      <td>6.097561</td>\n",
       "      <td>93.902439</td>\n",
       "    </tr>\n",
       "    <tr>\n",
       "      <th>2010</th>\n",
       "      <td>4.568528</td>\n",
       "      <td>95.431472</td>\n",
       "    </tr>\n",
       "    <tr>\n",
       "      <th>2011</th>\n",
       "      <td>4.898649</td>\n",
       "      <td>95.101351</td>\n",
       "    </tr>\n",
       "    <tr>\n",
       "      <th>2012</th>\n",
       "      <td>3.533026</td>\n",
       "      <td>96.466974</td>\n",
       "    </tr>\n",
       "    <tr>\n",
       "      <th>2013</th>\n",
       "      <td>6.417910</td>\n",
       "      <td>93.582090</td>\n",
       "    </tr>\n",
       "    <tr>\n",
       "      <th>2014</th>\n",
       "      <td>5.475040</td>\n",
       "      <td>94.524960</td>\n",
       "    </tr>\n",
       "    <tr>\n",
       "      <th>2015</th>\n",
       "      <td>7.474227</td>\n",
       "      <td>92.525773</td>\n",
       "    </tr>\n",
       "    <tr>\n",
       "      <th>2016</th>\n",
       "      <td>16.763679</td>\n",
       "      <td>83.236321</td>\n",
       "    </tr>\n",
       "    <tr>\n",
       "      <th>2017</th>\n",
       "      <td>17.387033</td>\n",
       "      <td>82.612967</td>\n",
       "    </tr>\n",
       "    <tr>\n",
       "      <th>2018</th>\n",
       "      <td>22.552664</td>\n",
       "      <td>77.447336</td>\n",
       "    </tr>\n",
       "    <tr>\n",
       "      <th>2019</th>\n",
       "      <td>47.512864</td>\n",
       "      <td>52.487136</td>\n",
       "    </tr>\n",
       "    <tr>\n",
       "      <th>2020</th>\n",
       "      <td>21.621622</td>\n",
       "      <td>78.378378</td>\n",
       "    </tr>\n",
       "  </tbody>\n",
       "</table>\n",
       "</div>"
      ],
      "text/plain": [
       "transmission  Automatic      Manual\n",
       "year                               \n",
       "1983           0.000000  100.000000\n",
       "1991           0.000000  100.000000\n",
       "1994           0.000000  100.000000\n",
       "1995           0.000000  100.000000\n",
       "1996           0.000000  100.000000\n",
       "1997           9.090909   90.909091\n",
       "1998           0.000000  100.000000\n",
       "1999           0.000000  100.000000\n",
       "2000           0.000000  100.000000\n",
       "2001           0.000000  100.000000\n",
       "2002           0.000000  100.000000\n",
       "2003           0.000000  100.000000\n",
       "2004           8.064516   91.935484\n",
       "2005           6.185567   93.814433\n",
       "2006           4.032258   95.967742\n",
       "2007           4.371585   95.628415\n",
       "2008           4.205607   95.794393\n",
       "2009           6.097561   93.902439\n",
       "2010           4.568528   95.431472\n",
       "2011           4.898649   95.101351\n",
       "2012           3.533026   96.466974\n",
       "2013           6.417910   93.582090\n",
       "2014           5.475040   94.524960\n",
       "2015           7.474227   92.525773\n",
       "2016          16.763679   83.236321\n",
       "2017          17.387033   82.612967\n",
       "2018          22.552664   77.447336\n",
       "2019          47.512864   52.487136\n",
       "2020          21.621622   78.378378"
      ]
     },
     "execution_count": 16,
     "metadata": {},
     "output_type": "execute_result"
    }
   ],
   "source": [
    "transmission_by_year_pct = transmission_by_year[['Automatic', 'Manual']].div(transmission_by_year[['Automatic', 'Manual']].sum(axis=1), axis=0) *100\n",
    "transmission_by_year_pct"
   ]
  },
  {
   "cell_type": "code",
   "execution_count": 17,
   "id": "198e8b17-b20f-4dd0-8532-1622b4275801",
   "metadata": {},
   "outputs": [
    {
     "data": {
      "image/png": "[encoded data removed]",
      "text/plain": [
       "<Figure size 1500x480 with 2 Axes>"
      ]
     },
     "metadata": {},
     "output_type": "display_data"
    }
   ],
   "source": [
    "fig, axes = plt.subplots(1,2, sharex=True)\n",
    "fig.set_figwidth(15)\n",
    "transmission_by_year[['Automatic','Manual']].plot(ax=axes[0],legend=True)\n",
    "axes[0].set(title=\"Number of cars by transmission\", xlim=1990)\n",
    "transmission_by_year_pct.plot(ax=axes[1], legend=False)\n",
    "axes[1].set(title=\"percentage of cars by transmission\", xlim=1990);\n",
    "# fig.legend()"
   ]
  },
  {
   "cell_type": "code",
   "execution_count": 18,
   "id": "4e8552fd-3f63-40af-8d37-339d073335e4",
   "metadata": {},
   "outputs": [],
   "source": [
    "data['fuel'] = data['fuel'].astype('category')"
   ]
  },
  {
   "cell_type": "markdown",
   "id": "41a837c8-690f-47f5-b956-3d4e1e989923",
   "metadata": {},
   "source": [
    "Lets see if there is a correlation somewhere first lets clean it up"
   ]
  },
  {
   "cell_type": "code",
   "execution_count": 19,
   "id": "2c82a85f-693c-4b19-a692-118fae750e8f",
   "metadata": {},
   "outputs": [
    {
     "data": {
      "text/html": [
       "<div>\n",
       "<style scoped>\n",
       "    .dataframe tbody tr th:only-of-type {\n",
       "        vertical-align: middle;\n",
       "    }\n",
       "\n",
       "    .dataframe tbody tr th {\n",
       "        vertical-align: top;\n",
       "    }\n",
       "\n",
       "    .dataframe thead th {\n",
       "        text-align: right;\n",
       "    }\n",
       "</style>\n",
       "<table border=\"1\" class=\"dataframe\">\n",
       "  <thead>\n",
       "    <tr style=\"text-align: right;\">\n",
       "      <th></th>\n",
       "      <th>name</th>\n",
       "      <th>year</th>\n",
       "      <th>selling_price</th>\n",
       "      <th>km_driven</th>\n",
       "      <th>fuel</th>\n",
       "      <th>seller_type</th>\n",
       "      <th>transmission</th>\n",
       "      <th>owner</th>\n",
       "      <th>torque</th>\n",
       "      <th>seats</th>\n",
       "      <th>mileage Km/L</th>\n",
       "      <th>engine CC</th>\n",
       "      <th>max_power hp</th>\n",
       "      <th>company</th>\n",
       "    </tr>\n",
       "  </thead>\n",
       "  <tbody>\n",
       "    <tr>\n",
       "      <th>0</th>\n",
       "      <td>Maruti Swift Dzire VDI</td>\n",
       "      <td>2014</td>\n",
       "      <td>450000</td>\n",
       "      <td>145500</td>\n",
       "      <td>Diesel</td>\n",
       "      <td>Individual</td>\n",
       "      <td>Manual</td>\n",
       "      <td>First Owner</td>\n",
       "      <td>190Nm@ 2000rpm</td>\n",
       "      <td>5.0</td>\n",
       "      <td>23.4</td>\n",
       "      <td>1248</td>\n",
       "      <td>74</td>\n",
       "      <td>Maruti</td>\n",
       "    </tr>\n",
       "    <tr>\n",
       "      <th>1</th>\n",
       "      <td>Skoda Rapid 1.5 TDI Ambition</td>\n",
       "      <td>2014</td>\n",
       "      <td>370000</td>\n",
       "      <td>120000</td>\n",
       "      <td>Diesel</td>\n",
       "      <td>Individual</td>\n",
       "      <td>Manual</td>\n",
       "      <td>Second Owner</td>\n",
       "      <td>250Nm@ 1500-2500rpm</td>\n",
       "      <td>5.0</td>\n",
       "      <td>21.14</td>\n",
       "      <td>1498</td>\n",
       "      <td>103.52</td>\n",
       "      <td>Skoda</td>\n",
       "    </tr>\n",
       "    <tr>\n",
       "      <th>2</th>\n",
       "      <td>Honda City 2017-2020 EXi</td>\n",
       "      <td>2006</td>\n",
       "      <td>158000</td>\n",
       "      <td>140000</td>\n",
       "      <td>Petrol</td>\n",
       "      <td>Individual</td>\n",
       "      <td>Manual</td>\n",
       "      <td>Third Owner</td>\n",
       "      <td>12.7@ 2,700(kgm@ rpm)</td>\n",
       "      <td>5.0</td>\n",
       "      <td>17.7</td>\n",
       "      <td>1497</td>\n",
       "      <td>78</td>\n",
       "      <td>Honda</td>\n",
       "    </tr>\n",
       "    <tr>\n",
       "      <th>3</th>\n",
       "      <td>Hyundai i20 Sportz Diesel</td>\n",
       "      <td>2010</td>\n",
       "      <td>225000</td>\n",
       "      <td>127000</td>\n",
       "      <td>Diesel</td>\n",
       "      <td>Individual</td>\n",
       "      <td>Manual</td>\n",
       "      <td>First Owner</td>\n",
       "      <td>22.4 kgm at 1750-2750rpm</td>\n",
       "      <td>5.0</td>\n",
       "      <td>23.0</td>\n",
       "      <td>1396</td>\n",
       "      <td>90</td>\n",
       "      <td>Hyundai</td>\n",
       "    </tr>\n",
       "    <tr>\n",
       "      <th>4</th>\n",
       "      <td>Maruti Swift VXI BSIII</td>\n",
       "      <td>2007</td>\n",
       "      <td>130000</td>\n",
       "      <td>120000</td>\n",
       "      <td>Petrol</td>\n",
       "      <td>Individual</td>\n",
       "      <td>Manual</td>\n",
       "      <td>First Owner</td>\n",
       "      <td>11.5@ 4,500(kgm@ rpm)</td>\n",
       "      <td>5.0</td>\n",
       "      <td>16.1</td>\n",
       "      <td>1298</td>\n",
       "      <td>88.2</td>\n",
       "      <td>Maruti</td>\n",
       "    </tr>\n",
       "  </tbody>\n",
       "</table>\n",
       "</div>"
      ],
      "text/plain": [
       "                           name  year  selling_price  km_driven    fuel  \\\n",
       "0        Maruti Swift Dzire VDI  2014         450000     145500  Diesel   \n",
       "1  Skoda Rapid 1.5 TDI Ambition  2014         370000     120000  Diesel   \n",
       "2      Honda City 2017-2020 EXi  2006         158000     140000  Petrol   \n",
       "3     Hyundai i20 Sportz Diesel  2010         225000     127000  Diesel   \n",
       "4        Maruti Swift VXI BSIII  2007         130000     120000  Petrol   \n",
       "\n",
       "  seller_type transmission         owner                    torque seats  \\\n",
       "0  Individual       Manual   First Owner            190Nm@ 2000rpm   5.0   \n",
       "1  Individual       Manual  Second Owner       250Nm@ 1500-2500rpm   5.0   \n",
       "2  Individual       Manual   Third Owner     12.7@ 2,700(kgm@ rpm)   5.0   \n",
       "3  Individual       Manual   First Owner  22.4 kgm at 1750-2750rpm   5.0   \n",
       "4  Individual       Manual   First Owner     11.5@ 4,500(kgm@ rpm)   5.0   \n",
       "\n",
       "  mileage Km/L  engine CC max_power hp  company  \n",
       "0         23.4       1248          74    Maruti  \n",
       "1        21.14       1498       103.52    Skoda  \n",
       "2         17.7       1497          78     Honda  \n",
       "3         23.0       1396          90   Hyundai  \n",
       "4         16.1       1298         88.2   Maruti  "
      ]
     },
     "execution_count": 19,
     "metadata": {},
     "output_type": "execute_result"
    }
   ],
   "source": [
    "data.head()"
   ]
  },
  {
   "cell_type": "code",
   "execution_count": 20,
   "id": "84fc0fff-7d5e-472c-94b4-32172e340442",
   "metadata": {},
   "outputs": [],
   "source": [
    "data[['mileage Km/L', 'engine CC', 'max_power hp', 'seats']] = data[['mileage Km/L',\n",
    "                                                                     'engine CC', 'max_power hp', 'seats']].astype('float')"
   ]
  },
  {
   "cell_type": "code",
   "execution_count": 21,
   "id": "d7b048e1-83b1-43bf-b0f8-8a5f0089fd00",
   "metadata": {},
   "outputs": [],
   "source": [
    "data[['seller_type', 'transmission', 'owner']] = data[['seller_type', 'transmission', 'owner']].astype(\"category\")"
   ]
  },
  {
   "cell_type": "code",
   "execution_count": 22,
   "id": "07be7a32-85f4-4a7e-92e5-799eaf8bd935",
   "metadata": {},
   "outputs": [
    {
     "data": {
      "text/html": [
       "<div>\n",
       "<style scoped>\n",
       "    .dataframe tbody tr th:only-of-type {\n",
       "        vertical-align: middle;\n",
       "    }\n",
       "\n",
       "    .dataframe tbody tr th {\n",
       "        vertical-align: top;\n",
       "    }\n",
       "\n",
       "    .dataframe thead th {\n",
       "        text-align: right;\n",
       "    }\n",
       "</style>\n",
       "<table border=\"1\" class=\"dataframe\">\n",
       "  <thead>\n",
       "    <tr style=\"text-align: right;\">\n",
       "      <th></th>\n",
       "      <th>name</th>\n",
       "      <th>year</th>\n",
       "      <th>selling_price</th>\n",
       "      <th>km_driven</th>\n",
       "      <th>fuel</th>\n",
       "      <th>seller_type</th>\n",
       "      <th>transmission</th>\n",
       "      <th>owner</th>\n",
       "      <th>torque</th>\n",
       "      <th>seats</th>\n",
       "      <th>mileage Km/L</th>\n",
       "      <th>engine CC</th>\n",
       "      <th>max_power hp</th>\n",
       "      <th>company</th>\n",
       "    </tr>\n",
       "  </thead>\n",
       "  <tbody>\n",
       "    <tr>\n",
       "      <th>0</th>\n",
       "      <td>Maruti Swift Dzire VDI</td>\n",
       "      <td>2014</td>\n",
       "      <td>450000</td>\n",
       "      <td>145500</td>\n",
       "      <td>Diesel</td>\n",
       "      <td>Individual</td>\n",
       "      <td>Manual</td>\n",
       "      <td>First Owner</td>\n",
       "      <td>190Nm@ 2000rpm</td>\n",
       "      <td>5.0</td>\n",
       "      <td>23.40</td>\n",
       "      <td>1248.0</td>\n",
       "      <td>74.00</td>\n",
       "      <td>Maruti</td>\n",
       "    </tr>\n",
       "    <tr>\n",
       "      <th>1</th>\n",
       "      <td>Skoda Rapid 1.5 TDI Ambition</td>\n",
       "      <td>2014</td>\n",
       "      <td>370000</td>\n",
       "      <td>120000</td>\n",
       "      <td>Diesel</td>\n",
       "      <td>Individual</td>\n",
       "      <td>Manual</td>\n",
       "      <td>Second Owner</td>\n",
       "      <td>250Nm@ 1500-2500rpm</td>\n",
       "      <td>5.0</td>\n",
       "      <td>21.14</td>\n",
       "      <td>1498.0</td>\n",
       "      <td>103.52</td>\n",
       "      <td>Skoda</td>\n",
       "    </tr>\n",
       "    <tr>\n",
       "      <th>2</th>\n",
       "      <td>Honda City 2017-2020 EXi</td>\n",
       "      <td>2006</td>\n",
       "      <td>158000</td>\n",
       "      <td>140000</td>\n",
       "      <td>Petrol</td>\n",
       "      <td>Individual</td>\n",
       "      <td>Manual</td>\n",
       "      <td>Third Owner</td>\n",
       "      <td>12.7@ 2,700(kgm@ rpm)</td>\n",
       "      <td>5.0</td>\n",
       "      <td>17.70</td>\n",
       "      <td>1497.0</td>\n",
       "      <td>78.00</td>\n",
       "      <td>Honda</td>\n",
       "    </tr>\n",
       "    <tr>\n",
       "      <th>3</th>\n",
       "      <td>Hyundai i20 Sportz Diesel</td>\n",
       "      <td>2010</td>\n",
       "      <td>225000</td>\n",
       "      <td>127000</td>\n",
       "      <td>Diesel</td>\n",
       "      <td>Individual</td>\n",
       "      <td>Manual</td>\n",
       "      <td>First Owner</td>\n",
       "      <td>22.4 kgm at 1750-2750rpm</td>\n",
       "      <td>5.0</td>\n",
       "      <td>23.00</td>\n",
       "      <td>1396.0</td>\n",
       "      <td>90.00</td>\n",
       "      <td>Hyundai</td>\n",
       "    </tr>\n",
       "    <tr>\n",
       "      <th>4</th>\n",
       "      <td>Maruti Swift VXI BSIII</td>\n",
       "      <td>2007</td>\n",
       "      <td>130000</td>\n",
       "      <td>120000</td>\n",
       "      <td>Petrol</td>\n",
       "      <td>Individual</td>\n",
       "      <td>Manual</td>\n",
       "      <td>First Owner</td>\n",
       "      <td>11.5@ 4,500(kgm@ rpm)</td>\n",
       "      <td>5.0</td>\n",
       "      <td>16.10</td>\n",
       "      <td>1298.0</td>\n",
       "      <td>88.20</td>\n",
       "      <td>Maruti</td>\n",
       "    </tr>\n",
       "  </tbody>\n",
       "</table>\n",
       "</div>"
      ],
      "text/plain": [
       "                           name  year  selling_price  km_driven    fuel  \\\n",
       "0        Maruti Swift Dzire VDI  2014         450000     145500  Diesel   \n",
       "1  Skoda Rapid 1.5 TDI Ambition  2014         370000     120000  Diesel   \n",
       "2      Honda City 2017-2020 EXi  2006         158000     140000  Petrol   \n",
       "3     Hyundai i20 Sportz Diesel  2010         225000     127000  Diesel   \n",
       "4        Maruti Swift VXI BSIII  2007         130000     120000  Petrol   \n",
       "\n",
       "  seller_type transmission         owner                    torque  seats  \\\n",
       "0  Individual       Manual   First Owner            190Nm@ 2000rpm    5.0   \n",
       "1  Individual       Manual  Second Owner       250Nm@ 1500-2500rpm    5.0   \n",
       "2  Individual       Manual   Third Owner     12.7@ 2,700(kgm@ rpm)    5.0   \n",
       "3  Individual       Manual   First Owner  22.4 kgm at 1750-2750rpm    5.0   \n",
       "4  Individual       Manual   First Owner     11.5@ 4,500(kgm@ rpm)    5.0   \n",
       "\n",
       "   mileage Km/L  engine CC  max_power hp  company  \n",
       "0         23.40     1248.0         74.00   Maruti  \n",
       "1         21.14     1498.0        103.52    Skoda  \n",
       "2         17.70     1497.0         78.00    Honda  \n",
       "3         23.00     1396.0         90.00  Hyundai  \n",
       "4         16.10     1298.0         88.20   Maruti  "
      ]
     },
     "execution_count": 22,
     "metadata": {},
     "output_type": "execute_result"
    }
   ],
   "source": [
    "data.head()"
   ]
  },
  {
   "cell_type": "code",
   "execution_count": 23,
   "id": "5ad67f22-1078-4d10-b6bc-ab449539cb47",
   "metadata": {},
   "outputs": [],
   "source": [
    "data['engine CC'] = data['engine CC'].map(lambda x: round(x,-2))"
   ]
  },
  {
   "cell_type": "code",
   "execution_count": 24,
   "id": "4adab2c4-e683-4e1e-8e69-841ea7997421",
   "metadata": {},
   "outputs": [],
   "source": [
    "cc_count = data['engine CC'].value_counts()"
   ]
  },
  {
   "cell_type": "code",
   "execution_count": 25,
   "id": "56a8ed5f-ed27-4098-9489-49d40756d817",
   "metadata": {},
   "outputs": [
    {
     "data": {
      "text/plain": [
       "<Axes: xlabel='engine CC'>"
      ]
     },
     "execution_count": 25,
     "metadata": {},
     "output_type": "execute_result"
    },
    {
     "data": {
      "image/png": "[encoded data removed]",
      "text/plain": [
       "<Figure size 640x480 with 1 Axes>"
      ]
     },
     "metadata": {},
     "output_type": "display_data"
    }
   ],
   "source": [
    "cc_count.nlargest(5).plot.bar()"
   ]
  },
  {
   "cell_type": "code",
   "execution_count": 26,
   "id": "aa9493a1",
   "metadata": {},
   "outputs": [
    {
     "data": {
      "text/plain": [
       "<Axes: >"
      ]
     },
     "execution_count": 26,
     "metadata": {},
     "output_type": "execute_result"
    },
    {
     "data": {
      "image/png": "[encoded data removed]",
      "text/plain": [
       "<Figure size 640x480 with 1 Axes>"
      ]
     },
     "metadata": {},
     "output_type": "display_data"
    }
   ],
   "source": [
    "sns.kdeplot()"
   ]
  },
  {
   "cell_type": "markdown",
   "id": "3ac3f31d-5034-4a19-a2fa-041ca5941ed3",
   "metadata": {},
   "source": [
    "Lets check for a particular cc cars, the correlation of max horsepower and engine cc"
   ]
  },
  {
   "cell_type": "code",
   "execution_count": 27,
   "id": "fc56a460-4dbe-4857-a605-16c9e8d4e8cb",
   "metadata": {},
   "outputs": [],
   "source": [
    "cc_1200 = data[data['engine CC'] == 1200]"
   ]
  },
  {
   "cell_type": "code",
   "execution_count": 28,
   "id": "97258042",
   "metadata": {},
   "outputs": [
    {
     "data": {
      "text/plain": [
       "<Axes: >"
      ]
     },
     "execution_count": 28,
     "metadata": {},
     "output_type": "execute_result"
    },
    {
     "data": {
      "image/png": "[encoded data removed]",
      "text/plain": [
       "<Figure size 640x480 with 2 Axes>"
      ]
     },
     "metadata": {},
     "output_type": "display_data"
    }
   ],
   "source": [
    "sns.heatmap(data[['engine CC','max_power hp','mileage Km/L']].corr())"
   ]
  },
  {
   "cell_type": "code",
   "execution_count": 29,
   "id": "fd9cfd76",
   "metadata": {},
   "outputs": [
    {
     "data": {
      "text/html": [
       "<div>\n",
       "<style scoped>\n",
       "    .dataframe tbody tr th:only-of-type {\n",
       "        vertical-align: middle;\n",
       "    }\n",
       "\n",
       "    .dataframe tbody tr th {\n",
       "        vertical-align: top;\n",
       "    }\n",
       "\n",
       "    .dataframe thead th {\n",
       "        text-align: right;\n",
       "    }\n",
       "</style>\n",
       "<table border=\"1\" class=\"dataframe\">\n",
       "  <thead>\n",
       "    <tr style=\"text-align: right;\">\n",
       "      <th></th>\n",
       "      <th>name</th>\n",
       "      <th>year</th>\n",
       "      <th>selling_price</th>\n",
       "      <th>km_driven</th>\n",
       "      <th>fuel</th>\n",
       "      <th>seller_type</th>\n",
       "      <th>transmission</th>\n",
       "      <th>owner</th>\n",
       "      <th>torque</th>\n",
       "      <th>seats</th>\n",
       "      <th>mileage Km/L</th>\n",
       "      <th>engine CC</th>\n",
       "      <th>max_power hp</th>\n",
       "      <th>company</th>\n",
       "    </tr>\n",
       "  </thead>\n",
       "  <tbody>\n",
       "    <tr>\n",
       "      <th>170</th>\n",
       "      <td>Volvo XC90 T8 Excellence BSIV</td>\n",
       "      <td>2017</td>\n",
       "      <td>10000000</td>\n",
       "      <td>30000</td>\n",
       "      <td>Petrol</td>\n",
       "      <td>Individual</td>\n",
       "      <td>Automatic</td>\n",
       "      <td>First Owner</td>\n",
       "      <td>640Nm@ 1740rpm</td>\n",
       "      <td>4.0</td>\n",
       "      <td>42.0</td>\n",
       "      <td>2000.0</td>\n",
       "      <td>400.0</td>\n",
       "      <td>Volvo</td>\n",
       "    </tr>\n",
       "  </tbody>\n",
       "</table>\n",
       "</div>"
      ],
      "text/plain": [
       "                              name  year  selling_price  km_driven    fuel  \\\n",
       "170  Volvo XC90 T8 Excellence BSIV  2017       10000000      30000  Petrol   \n",
       "\n",
       "    seller_type transmission        owner          torque  seats  \\\n",
       "170  Individual    Automatic  First Owner  640Nm@ 1740rpm    4.0   \n",
       "\n",
       "     mileage Km/L  engine CC  max_power hp company  \n",
       "170          42.0     2000.0         400.0   Volvo  "
      ]
     },
     "execution_count": 29,
     "metadata": {},
     "output_type": "execute_result"
    }
   ],
   "source": [
    "data[data['max_power hp'] > 350]"
   ]
  },
  {
   "cell_type": "markdown",
   "id": "77d1333a",
   "metadata": {},
   "source": [
    "We can see there is a strong correlation between horse power and engine capacity. So lets plot it"
   ]
  },
  {
   "cell_type": "code",
   "execution_count": 30,
   "id": "5412c3fd",
   "metadata": {},
   "outputs": [
    {
     "data": {
      "text/plain": [
       "Text(2030, 400, 'Volvo XC90 T8 Excellence BSIV')"
      ]
     },
     "execution_count": 30,
     "metadata": {},
     "output_type": "execute_result"
    },
    {
     "data": {
      "image/png": "[encoded data removed]",
      "text/plain": [
       "<Figure size 640x480 with 1 Axes>"
      ]
     },
     "metadata": {},
     "output_type": "display_data"
    }
   ],
   "source": [
    "ax = sns.regplot(data=data, x='engine CC', y='max_power hp')\n",
    "ax.text(2030, 400, \"Volvo XC90 T8 Excellence BSIV\")"
   ]
  },
  {
   "cell_type": "markdown",
   "id": "fb6021e3",
   "metadata": {},
   "source": [
    "Volvo XC90 T8 Excellence BSIV had 400 hp at 2000 cc and was an outlier"
   ]
  },
  {
   "cell_type": "code",
   "execution_count": 31,
   "id": "7a704134",
   "metadata": {},
   "outputs": [
    {
     "data": {
      "text/html": [
       "<div>\n",
       "<style scoped>\n",
       "    .dataframe tbody tr th:only-of-type {\n",
       "        vertical-align: middle;\n",
       "    }\n",
       "\n",
       "    .dataframe tbody tr th {\n",
       "        vertical-align: top;\n",
       "    }\n",
       "\n",
       "    .dataframe thead th {\n",
       "        text-align: right;\n",
       "    }\n",
       "</style>\n",
       "<table border=\"1\" class=\"dataframe\">\n",
       "  <thead>\n",
       "    <tr style=\"text-align: right;\">\n",
       "      <th></th>\n",
       "      <th>name</th>\n",
       "      <th>year</th>\n",
       "      <th>selling_price</th>\n",
       "      <th>km_driven</th>\n",
       "      <th>fuel</th>\n",
       "      <th>seller_type</th>\n",
       "      <th>transmission</th>\n",
       "      <th>owner</th>\n",
       "      <th>torque</th>\n",
       "      <th>seats</th>\n",
       "      <th>mileage Km/L</th>\n",
       "      <th>engine CC</th>\n",
       "      <th>max_power hp</th>\n",
       "      <th>company</th>\n",
       "    </tr>\n",
       "  </thead>\n",
       "  <tbody>\n",
       "    <tr>\n",
       "      <th>0</th>\n",
       "      <td>Maruti Swift Dzire VDI</td>\n",
       "      <td>2014</td>\n",
       "      <td>450000</td>\n",
       "      <td>145500</td>\n",
       "      <td>Diesel</td>\n",
       "      <td>Individual</td>\n",
       "      <td>Manual</td>\n",
       "      <td>First Owner</td>\n",
       "      <td>190Nm@ 2000rpm</td>\n",
       "      <td>5.0</td>\n",
       "      <td>23.40</td>\n",
       "      <td>1200.0</td>\n",
       "      <td>74.00</td>\n",
       "      <td>Maruti</td>\n",
       "    </tr>\n",
       "    <tr>\n",
       "      <th>1</th>\n",
       "      <td>Skoda Rapid 1.5 TDI Ambition</td>\n",
       "      <td>2014</td>\n",
       "      <td>370000</td>\n",
       "      <td>120000</td>\n",
       "      <td>Diesel</td>\n",
       "      <td>Individual</td>\n",
       "      <td>Manual</td>\n",
       "      <td>Second Owner</td>\n",
       "      <td>250Nm@ 1500-2500rpm</td>\n",
       "      <td>5.0</td>\n",
       "      <td>21.14</td>\n",
       "      <td>1500.0</td>\n",
       "      <td>103.52</td>\n",
       "      <td>Skoda</td>\n",
       "    </tr>\n",
       "    <tr>\n",
       "      <th>2</th>\n",
       "      <td>Honda City 2017-2020 EXi</td>\n",
       "      <td>2006</td>\n",
       "      <td>158000</td>\n",
       "      <td>140000</td>\n",
       "      <td>Petrol</td>\n",
       "      <td>Individual</td>\n",
       "      <td>Manual</td>\n",
       "      <td>Third Owner</td>\n",
       "      <td>12.7@ 2,700(kgm@ rpm)</td>\n",
       "      <td>5.0</td>\n",
       "      <td>17.70</td>\n",
       "      <td>1500.0</td>\n",
       "      <td>78.00</td>\n",
       "      <td>Honda</td>\n",
       "    </tr>\n",
       "    <tr>\n",
       "      <th>3</th>\n",
       "      <td>Hyundai i20 Sportz Diesel</td>\n",
       "      <td>2010</td>\n",
       "      <td>225000</td>\n",
       "      <td>127000</td>\n",
       "      <td>Diesel</td>\n",
       "      <td>Individual</td>\n",
       "      <td>Manual</td>\n",
       "      <td>First Owner</td>\n",
       "      <td>22.4 kgm at 1750-2750rpm</td>\n",
       "      <td>5.0</td>\n",
       "      <td>23.00</td>\n",
       "      <td>1400.0</td>\n",
       "      <td>90.00</td>\n",
       "      <td>Hyundai</td>\n",
       "    </tr>\n",
       "    <tr>\n",
       "      <th>4</th>\n",
       "      <td>Maruti Swift VXI BSIII</td>\n",
       "      <td>2007</td>\n",
       "      <td>130000</td>\n",
       "      <td>120000</td>\n",
       "      <td>Petrol</td>\n",
       "      <td>Individual</td>\n",
       "      <td>Manual</td>\n",
       "      <td>First Owner</td>\n",
       "      <td>11.5@ 4,500(kgm@ rpm)</td>\n",
       "      <td>5.0</td>\n",
       "      <td>16.10</td>\n",
       "      <td>1300.0</td>\n",
       "      <td>88.20</td>\n",
       "      <td>Maruti</td>\n",
       "    </tr>\n",
       "  </tbody>\n",
       "</table>\n",
       "</div>"
      ],
      "text/plain": [
       "                           name  year  selling_price  km_driven    fuel  \\\n",
       "0        Maruti Swift Dzire VDI  2014         450000     145500  Diesel   \n",
       "1  Skoda Rapid 1.5 TDI Ambition  2014         370000     120000  Diesel   \n",
       "2      Honda City 2017-2020 EXi  2006         158000     140000  Petrol   \n",
       "3     Hyundai i20 Sportz Diesel  2010         225000     127000  Diesel   \n",
       "4        Maruti Swift VXI BSIII  2007         130000     120000  Petrol   \n",
       "\n",
       "  seller_type transmission         owner                    torque  seats  \\\n",
       "0  Individual       Manual   First Owner            190Nm@ 2000rpm    5.0   \n",
       "1  Individual       Manual  Second Owner       250Nm@ 1500-2500rpm    5.0   \n",
       "2  Individual       Manual   Third Owner     12.7@ 2,700(kgm@ rpm)    5.0   \n",
       "3  Individual       Manual   First Owner  22.4 kgm at 1750-2750rpm    5.0   \n",
       "4  Individual       Manual   First Owner     11.5@ 4,500(kgm@ rpm)    5.0   \n",
       "\n",
       "   mileage Km/L  engine CC  max_power hp  company  \n",
       "0         23.40     1200.0         74.00   Maruti  \n",
       "1         21.14     1500.0        103.52    Skoda  \n",
       "2         17.70     1500.0         78.00    Honda  \n",
       "3         23.00     1400.0         90.00  Hyundai  \n",
       "4         16.10     1300.0         88.20   Maruti  "
      ]
     },
     "execution_count": 31,
     "metadata": {},
     "output_type": "execute_result"
    }
   ],
   "source": [
    "data.head()"
   ]
  },
  {
   "cell_type": "code",
   "execution_count": 32,
   "id": "8f64ad23",
   "metadata": {},
   "outputs": [],
   "source": [
    "data['torque'] = data['torque'].str.replace(pat=\"at\", repl=\"@\")"
   ]
  },
  {
   "cell_type": "code",
   "execution_count": 33,
   "id": "415783f8",
   "metadata": {},
   "outputs": [
    {
     "data": {
      "text/plain": [
       "torque\n",
       "False    8128\n",
       "Name: count, dtype: int64"
      ]
     },
     "execution_count": 33,
     "metadata": {},
     "output_type": "execute_result"
    }
   ],
   "source": [
    "data['torque'].isna().value_counts()"
   ]
  },
  {
   "cell_type": "code",
   "execution_count": 34,
   "id": "a489120a",
   "metadata": {},
   "outputs": [
    {
     "data": {
      "text/plain": [
       "name             Hyundai i20 Magna\n",
       "year                          2013\n",
       "selling_price               320000\n",
       "km_driven                   110000\n",
       "fuel                        Petrol\n",
       "seller_type             Individual\n",
       "transmission                Manual\n",
       "owner                  First Owner\n",
       "torque            113.7Nm@ 4000rpm\n",
       "seats                          5.0\n",
       "mileage Km/L                  18.5\n",
       "engine CC                   1200.0\n",
       "max_power hp                 82.85\n",
       "company                    Hyundai\n",
       "Name: 8123, dtype: object"
      ]
     },
     "execution_count": 34,
     "metadata": {},
     "output_type": "execute_result"
    }
   ],
   "source": [
    "data.iloc[8123]"
   ]
  },
  {
   "cell_type": "code",
   "execution_count": 35,
   "id": "e3d311f0",
   "metadata": {},
   "outputs": [
    {
     "data": {
      "text/plain": [
       "0       1863.26\n",
       "1       2451.66\n",
       "2        124.54\n",
       "3        219.67\n",
       "4        112.78\n",
       "         ...   \n",
       "8123    1115.02\n",
       "8124     235.36\n",
       "8125    1863.26\n",
       "8126    1372.93\n",
       "8127    1372.93\n",
       "Name: torque, Length: 8128, dtype: object"
      ]
     },
     "execution_count": 35,
     "metadata": {},
     "output_type": "execute_result"
    }
   ],
   "source": [
    "def get_nm(x):\n",
    "        if x[0] == np.nan or x[0] == 'nan':\n",
    "            return x[0]\n",
    "        if  x[0] in (\"Nm\",\"nm\", \"N\"):\n",
    "            nm = float(re.search(pattern= '(-?\\d*\\.?\\d+)', string=x[0]).group())\n",
    "        else:\n",
    "            kgm = float(re.search(pattern= '-?\\d*\\.?\\d+', string=x[0]).group())\n",
    "            nm = kgm * 9.80665\n",
    "        return float(\"{:.2f}\".format(nm))\n",
    "# get_nm(['190Nm'])\n",
    "splitted = data['torque'].str.split('@')\n",
    "splitted.map(get_nm)"
   ]
  }
 ],
 "metadata": {
  "kernelspec": {
   "display_name": "Python 3 (ipykernel)",
   "language": "python",
   "name": "python3"
  },
  "language_info": {
   "codemirror_mode": {
    "name": "ipython",
    "version": 3
   },
   "file_extension": ".py",
   "mimetype": "text/x-python",
   "name": "python",
   "nbconvert_exporter": "python",
   "pygments_lexer": "ipython3",
   "version": "3.10.13"
  }
 },
 "nbformat": 4,
 "nbformat_minor": 5
}
